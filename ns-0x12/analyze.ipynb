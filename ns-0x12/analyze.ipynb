{
 "cells": [
  {
   "cell_type": "code",
   "execution_count": 1,
   "metadata": {},
   "outputs": [],
   "source": [
    "# 导入必要的库\n",
    "from bat.log_to_dataframe import LogToDataFrame\n",
    "from bat.utils import plot_utils\n",
    "\n",
    "# 设置默认绘图环境\n",
    "import matplotlib.pyplot as plt\n",
    "plot_utils.plot_defaults()"
   ]
  },
  {
   "cell_type": "code",
   "execution_count": 2,
   "metadata": {},
   "outputs": [
    {
     "name": "stdout",
     "output_type": "stream",
     "text": [
      "Successfully monitoring mylog/conn.log...\n"
     ]
    },
    {
     "data": {
      "text/plain": [
       "1004"
      ]
     },
     "execution_count": 2,
     "metadata": {},
     "output_type": "execute_result"
    }
   ],
   "source": [
    "# 读取日志文件\n",
    "conn_df = LogToDataFrame('mylog/conn.log')\n",
    "\n",
    "# 数目\n",
    "conn_df.shape[0]"
   ]
  },
  {
   "cell_type": "code",
   "execution_count": 3,
   "metadata": {},
   "outputs": [
    {
     "data": {
      "text/plain": [
       "conn_state                 object\n",
       "duration          timedelta64[ns]\n",
       "history                    object\n",
       "id.orig_h                  object\n",
       "id.orig_p                   int64\n",
       "id.resp_h                  object\n",
       "id.resp_p                   int64\n",
       "local_orig                   bool\n",
       "local_resp                   bool\n",
       "missed_bytes                int64\n",
       "orig_bytes                  int64\n",
       "orig_ip_bytes               int64\n",
       "orig_pkts                   int64\n",
       "proto                      object\n",
       "resp_bytes                  int64\n",
       "resp_ip_bytes               int64\n",
       "resp_pkts                   int64\n",
       "service                    object\n",
       "tunnel_parents             object\n",
       "uid                        object\n",
       "dtype: object"
      ]
     },
     "execution_count": 3,
     "metadata": {},
     "output_type": "execute_result"
    }
   ],
   "source": [
    "# 列字段、类型\n",
    "conn_df.dtypes"
   ]
  },
  {
   "cell_type": "code",
   "execution_count": 4,
   "metadata": {},
   "outputs": [
    {
     "data": {
      "text/plain": [
       "array(['10.0.2.19'], dtype=object)"
      ]
     },
     "execution_count": 4,
     "metadata": {},
     "output_type": "execute_result"
    }
   ],
   "source": [
    "# 统计来源ip\n",
    "conn_df['id.orig_h'].unique()"
   ]
  },
  {
   "cell_type": "code",
   "execution_count": 5,
   "metadata": {},
   "outputs": [
    {
     "data": {
      "text/plain": [
       "array(['tcp', 'icmp'], dtype=object)"
      ]
     },
     "execution_count": 5,
     "metadata": {},
     "output_type": "execute_result"
    }
   ],
   "source": [
    "# 统计协议类型\n",
    "conn_df['proto'].unique()"
   ]
  },
  {
   "cell_type": "code",
   "execution_count": 6,
   "metadata": {},
   "outputs": [
    {
     "data": {
      "text/plain": [
       "1003"
      ]
     },
     "execution_count": 6,
     "metadata": {},
     "output_type": "execute_result"
    }
   ],
   "source": [
    "# tcp协议\n",
    "tcp = conn_df['proto'] == 'tcp'\n",
    "\n",
    "# 数目\n",
    "# 总数1004 tcp数目1003\n",
    "conn_df[tcp].shape[0]"
   ]
  },
  {
   "cell_type": "code",
   "execution_count": 7,
   "metadata": {},
   "outputs": [
    {
     "data": {
      "text/plain": [
       "1000"
      ]
     },
     "execution_count": 7,
     "metadata": {},
     "output_type": "execute_result"
    }
   ],
   "source": [
    "# 统计目标端口\n",
    "ports = conn_df[tcp]['id.resp_p'].unique()\n",
    "\n",
    "len(ports)"
   ]
  },
  {
   "cell_type": "code",
   "execution_count": 8,
   "metadata": {},
   "outputs": [
    {
     "data": {
      "text/plain": [
       "Text(0, 0.5, 'count')"
      ]
     },
     "execution_count": 8,
     "metadata": {},
     "output_type": "execute_result"
    },
    {
     "data": {
      "image/png": "[encoded data removed]",
      "text/plain": [
       "<Figure size 432x288 with 1 Axes>"
      ]
     },
     "metadata": {
      "needs_background": "light"
     },
     "output_type": "display_data"
    }
   ],
   "source": [
    "# 绘图\n",
    "conn_df[tcp]['id.resp_p'].hist()\n",
    "\n",
    "# 端口 - 访问次数\n",
    "plt.xlabel('ports')\n",
    "plt.ylabel('count')"
   ]
  },
  {
   "cell_type": "code",
   "execution_count": 9,
   "metadata": {},
   "outputs": [
    {
     "name": "stdout",
     "output_type": "stream",
     "text": [
      "Successfully monitoring mylog/http.log...\n"
     ]
    },
    {
     "data": {
      "text/plain": [
       "host                 object\n",
       "id.orig_h            object\n",
       "id.orig_p             int64\n",
       "id.resp_h            object\n",
       "id.resp_p             int64\n",
       "info_code             int64\n",
       "info_msg             object\n",
       "method               object\n",
       "orig_filenames       object\n",
       "orig_fuids           object\n",
       "orig_mime_types      object\n",
       "password             object\n",
       "proxied              object\n",
       "referrer             object\n",
       "request_body_len      int64\n",
       "resp_filenames       object\n",
       "resp_fuids           object\n",
       "resp_mime_types      object\n",
       "response_body_len     int64\n",
       "status_code           int64\n",
       "status_msg           object\n",
       "tags                 object\n",
       "trans_depth           int64\n",
       "uid                  object\n",
       "uri                  object\n",
       "user_agent           object\n",
       "username             object\n",
       "version              object\n",
       "dtype: object"
      ]
     },
     "execution_count": 9,
     "metadata": {},
     "output_type": "execute_result"
    }
   ],
   "source": [
    "# 读取http日志文件\n",
    "http_df = LogToDataFrame('mylog/http.log')\n",
    "\n",
    "# 列字段、类型\n",
    "http_df.dtypes"
   ]
  },
  {
   "cell_type": "code",
   "execution_count": 10,
   "metadata": {},
   "outputs": [
    {
     "data": {
      "text/html": [
       "<div>\n",
       "<style scoped>\n",
       "    .dataframe tbody tr th:only-of-type {\n",
       "        vertical-align: middle;\n",
       "    }\n",
       "\n",
       "    .dataframe tbody tr th {\n",
       "        vertical-align: top;\n",
       "    }\n",
       "\n",
       "    .dataframe thead th {\n",
       "        text-align: right;\n",
       "    }\n",
       "</style>\n",
       "<table border=\"1\" class=\"dataframe\">\n",
       "  <thead>\n",
       "    <tr style=\"text-align: right;\">\n",
       "      <th></th>\n",
       "      <th>id.orig_h</th>\n",
       "      <th>id.resp_p</th>\n",
       "      <th>method</th>\n",
       "      <th>status_code</th>\n",
       "      <th>uri</th>\n",
       "    </tr>\n",
       "    <tr>\n",
       "      <th>ts</th>\n",
       "      <th></th>\n",
       "      <th></th>\n",
       "      <th></th>\n",
       "      <th></th>\n",
       "      <th></th>\n",
       "    </tr>\n",
       "  </thead>\n",
       "  <tbody>\n",
       "    <tr>\n",
       "      <th>2018-12-23 22:32:03.726236</th>\n",
       "      <td>10.0.2.19</td>\n",
       "      <td>80</td>\n",
       "      <td>GET</td>\n",
       "      <td>200</td>\n",
       "      <td>/?q=\"&gt;&lt;script&gt;alert(1)&lt;/script&gt;</td>\n",
       "    </tr>\n",
       "  </tbody>\n",
       "</table>\n",
       "</div>"
      ],
      "text/plain": [
       "                            id.orig_h  id.resp_p method  status_code  \\\n",
       "ts                                                                     \n",
       "2018-12-23 22:32:03.726236  10.0.2.19         80    GET          200   \n",
       "\n",
       "                                                        uri  \n",
       "ts                                                           \n",
       "2018-12-23 22:32:03.726236  /?q=\"><script>alert(1)</script>  "
      ]
     },
     "execution_count": 10,
     "metadata": {},
     "output_type": "execute_result"
    }
   ],
   "source": [
    "# 选择部分列输出\n",
    "# 只有一个记录orz\n",
    "http_df[['id.orig_h', 'id.resp_p', 'method', 'status_code', 'uri']]"
   ]
  },
  {
   "cell_type": "code",
   "execution_count": 11,
   "metadata": {},
   "outputs": [
    {
     "name": "stdout",
     "output_type": "stream",
     "text": [
      "Successfully monitoring mylog/ssh.log...\n"
     ]
    },
    {
     "data": {
      "text/html": [
       "<div>\n",
       "<style scoped>\n",
       "    .dataframe tbody tr th:only-of-type {\n",
       "        vertical-align: middle;\n",
       "    }\n",
       "\n",
       "    .dataframe tbody tr th {\n",
       "        vertical-align: top;\n",
       "    }\n",
       "\n",
       "    .dataframe thead th {\n",
       "        text-align: right;\n",
       "    }\n",
       "</style>\n",
       "<table border=\"1\" class=\"dataframe\">\n",
       "  <thead>\n",
       "    <tr style=\"text-align: right;\">\n",
       "      <th></th>\n",
       "      <th>auth_attempts</th>\n",
       "      <th>auth_success</th>\n",
       "      <th>cipher_alg</th>\n",
       "      <th>client</th>\n",
       "      <th>compression_alg</th>\n",
       "      <th>direction</th>\n",
       "      <th>host_key</th>\n",
       "      <th>host_key_alg</th>\n",
       "      <th>id.orig_h</th>\n",
       "      <th>id.orig_p</th>\n",
       "      <th>...</th>\n",
       "      <th>kex_alg</th>\n",
       "      <th>mac_alg</th>\n",
       "      <th>remote_location.city</th>\n",
       "      <th>remote_location.country_code</th>\n",
       "      <th>remote_location.latitude</th>\n",
       "      <th>remote_location.longitude</th>\n",
       "      <th>remote_location.region</th>\n",
       "      <th>server</th>\n",
       "      <th>uid</th>\n",
       "      <th>version</th>\n",
       "    </tr>\n",
       "    <tr>\n",
       "      <th>ts</th>\n",
       "      <th></th>\n",
       "      <th></th>\n",
       "      <th></th>\n",
       "      <th></th>\n",
       "      <th></th>\n",
       "      <th></th>\n",
       "      <th></th>\n",
       "      <th></th>\n",
       "      <th></th>\n",
       "      <th></th>\n",
       "      <th></th>\n",
       "      <th></th>\n",
       "      <th></th>\n",
       "      <th></th>\n",
       "      <th></th>\n",
       "      <th></th>\n",
       "      <th></th>\n",
       "      <th></th>\n",
       "      <th></th>\n",
       "      <th></th>\n",
       "      <th></th>\n",
       "    </tr>\n",
       "  </thead>\n",
       "  <tbody>\n",
       "    <tr>\n",
       "      <th>2018-12-23 22:32:29.237367</th>\n",
       "      <td>0</td>\n",
       "      <td>False</td>\n",
       "      <td>chacha20-poly1305@openssh.com</td>\n",
       "      <td>SSH-2.0-OpenSSH_7.9p1 Debian-4</td>\n",
       "      <td>none</td>\n",
       "      <td>-</td>\n",
       "      <td>-</td>\n",
       "      <td>rsa-sha2-512</td>\n",
       "      <td>10.0.2.19</td>\n",
       "      <td>35820</td>\n",
       "      <td>...</td>\n",
       "      <td>curve25519-sha256</td>\n",
       "      <td>umac-64-etm@openssh.com</td>\n",
       "      <td>-</td>\n",
       "      <td>-</td>\n",
       "      <td>0.0</td>\n",
       "      <td>0.0</td>\n",
       "      <td>-</td>\n",
       "      <td>SSH-2.0-OpenSSH_7.9p1 Debian-4</td>\n",
       "      <td>ChoLWb2fDLvpjLiTq7</td>\n",
       "      <td>2</td>\n",
       "    </tr>\n",
       "    <tr>\n",
       "      <th>2018-12-23 22:32:50.425913</th>\n",
       "      <td>0</td>\n",
       "      <td>False</td>\n",
       "      <td>chacha20-poly1305@openssh.com</td>\n",
       "      <td>SSH-2.0-OpenSSH_7.9p1 Debian-4</td>\n",
       "      <td>none</td>\n",
       "      <td>-</td>\n",
       "      <td>-</td>\n",
       "      <td>rsa-sha2-512</td>\n",
       "      <td>10.0.2.19</td>\n",
       "      <td>35822</td>\n",
       "      <td>...</td>\n",
       "      <td>curve25519-sha256</td>\n",
       "      <td>umac-64-etm@openssh.com</td>\n",
       "      <td>-</td>\n",
       "      <td>-</td>\n",
       "      <td>0.0</td>\n",
       "      <td>0.0</td>\n",
       "      <td>-</td>\n",
       "      <td>SSH-2.0-OpenSSH_7.9p1 Debian-4</td>\n",
       "      <td>Che1U722d8VJG3iHji</td>\n",
       "      <td>2</td>\n",
       "    </tr>\n",
       "  </tbody>\n",
       "</table>\n",
       "<p>2 rows × 22 columns</p>\n",
       "</div>"
      ],
      "text/plain": [
       "                            auth_attempts  auth_success  \\\n",
       "ts                                                        \n",
       "2018-12-23 22:32:29.237367              0         False   \n",
       "2018-12-23 22:32:50.425913              0         False   \n",
       "\n",
       "                                               cipher_alg  \\\n",
       "ts                                                          \n",
       "2018-12-23 22:32:29.237367  chacha20-poly1305@openssh.com   \n",
       "2018-12-23 22:32:50.425913  chacha20-poly1305@openssh.com   \n",
       "\n",
       "                                                    client compression_alg  \\\n",
       "ts                                                                           \n",
       "2018-12-23 22:32:29.237367  SSH-2.0-OpenSSH_7.9p1 Debian-4            none   \n",
       "2018-12-23 22:32:50.425913  SSH-2.0-OpenSSH_7.9p1 Debian-4            none   \n",
       "\n",
       "                           direction host_key  host_key_alg  id.orig_h  \\\n",
       "ts                                                                       \n",
       "2018-12-23 22:32:29.237367         -        -  rsa-sha2-512  10.0.2.19   \n",
       "2018-12-23 22:32:50.425913         -        -  rsa-sha2-512  10.0.2.19   \n",
       "\n",
       "                            id.orig_p   ...              kex_alg  \\\n",
       "ts                                      ...                        \n",
       "2018-12-23 22:32:29.237367      35820   ...    curve25519-sha256   \n",
       "2018-12-23 22:32:50.425913      35822   ...    curve25519-sha256   \n",
       "\n",
       "                                            mac_alg remote_location.city  \\\n",
       "ts                                                                         \n",
       "2018-12-23 22:32:29.237367  umac-64-etm@openssh.com                    -   \n",
       "2018-12-23 22:32:50.425913  umac-64-etm@openssh.com                    -   \n",
       "\n",
       "                           remote_location.country_code  \\\n",
       "ts                                                        \n",
       "2018-12-23 22:32:29.237367                            -   \n",
       "2018-12-23 22:32:50.425913                            -   \n",
       "\n",
       "                           remote_location.latitude remote_location.longitude  \\\n",
       "ts                                                                              \n",
       "2018-12-23 22:32:29.237367                      0.0                       0.0   \n",
       "2018-12-23 22:32:50.425913                      0.0                       0.0   \n",
       "\n",
       "                            remote_location.region  \\\n",
       "ts                                                   \n",
       "2018-12-23 22:32:29.237367                       -   \n",
       "2018-12-23 22:32:50.425913                       -   \n",
       "\n",
       "                                                    server  \\\n",
       "ts                                                           \n",
       "2018-12-23 22:32:29.237367  SSH-2.0-OpenSSH_7.9p1 Debian-4   \n",
       "2018-12-23 22:32:50.425913  SSH-2.0-OpenSSH_7.9p1 Debian-4   \n",
       "\n",
       "                                           uid version  \n",
       "ts                                                      \n",
       "2018-12-23 22:32:29.237367  ChoLWb2fDLvpjLiTq7       2  \n",
       "2018-12-23 22:32:50.425913  Che1U722d8VJG3iHji       2  \n",
       "\n",
       "[2 rows x 22 columns]"
      ]
     },
     "execution_count": 11,
     "metadata": {},
     "output_type": "execute_result"
    }
   ],
   "source": [
    "# 读取ssh日志文件\n",
    "ssh_df = LogToDataFrame('mylog/ssh.log')\n",
    "\n",
    "# 输出所有（只有两个记录）\n",
    "# 从 auth_success 字段看出都没有成功连接\n",
    "ssh_df"
   ]
  },
  {
   "cell_type": "code",
   "execution_count": 12,
   "metadata": {},
   "outputs": [
    {
     "name": "stdout",
     "output_type": "stream",
     "text": [
      "Successfully monitoring mylog/notice.log...\n"
     ]
    },
    {
     "data": {
      "text/plain": [
       "actions                                  object\n",
       "dropped                                    bool\n",
       "dst                                      object\n",
       "file_desc                                object\n",
       "file_mime_type                           object\n",
       "fuid                                     object\n",
       "id.orig_h                                object\n",
       "id.orig_p                                 int64\n",
       "id.resp_h                                object\n",
       "id.resp_p                                 int64\n",
       "msg                                      object\n",
       "n                                         int64\n",
       "note                                     object\n",
       "p                                         int64\n",
       "peer_descr                               object\n",
       "proto                                    object\n",
       "remote_location.city                     object\n",
       "remote_location.country_code             object\n",
       "remote_location.latitude                float64\n",
       "remote_location.longitude               float64\n",
       "remote_location.region                   object\n",
       "src                                      object\n",
       "sub                                      object\n",
       "suppress_for                    timedelta64[ns]\n",
       "uid                                      object\n",
       "dtype: object"
      ]
     },
     "execution_count": 12,
     "metadata": {},
     "output_type": "execute_result"
    }
   ],
   "source": [
    "# 读取notice日志文件\n",
    "# 被 bro 注意（异常/恶意）\n",
    "notice_df = LogToDataFrame('mylog/notice.log')\n",
    "\n",
    "# 列字段、类型\n",
    "notice_df.dtypes"
   ]
  },
  {
   "cell_type": "code",
   "execution_count": 13,
   "metadata": {},
   "outputs": [
    {
     "data": {
      "text/html": [
       "<div>\n",
       "<style scoped>\n",
       "    .dataframe tbody tr th:only-of-type {\n",
       "        vertical-align: middle;\n",
       "    }\n",
       "\n",
       "    .dataframe tbody tr th {\n",
       "        vertical-align: top;\n",
       "    }\n",
       "\n",
       "    .dataframe thead th {\n",
       "        text-align: right;\n",
       "    }\n",
       "</style>\n",
       "<table border=\"1\" class=\"dataframe\">\n",
       "  <thead>\n",
       "    <tr style=\"text-align: right;\">\n",
       "      <th></th>\n",
       "      <th>actions</th>\n",
       "      <th>dropped</th>\n",
       "      <th>dst</th>\n",
       "      <th>file_desc</th>\n",
       "      <th>file_mime_type</th>\n",
       "      <th>fuid</th>\n",
       "      <th>id.orig_h</th>\n",
       "      <th>id.orig_p</th>\n",
       "      <th>id.resp_h</th>\n",
       "      <th>id.resp_p</th>\n",
       "      <th>...</th>\n",
       "      <th>proto</th>\n",
       "      <th>remote_location.city</th>\n",
       "      <th>remote_location.country_code</th>\n",
       "      <th>remote_location.latitude</th>\n",
       "      <th>remote_location.longitude</th>\n",
       "      <th>remote_location.region</th>\n",
       "      <th>src</th>\n",
       "      <th>sub</th>\n",
       "      <th>suppress_for</th>\n",
       "      <th>uid</th>\n",
       "    </tr>\n",
       "    <tr>\n",
       "      <th>ts</th>\n",
       "      <th></th>\n",
       "      <th></th>\n",
       "      <th></th>\n",
       "      <th></th>\n",
       "      <th></th>\n",
       "      <th></th>\n",
       "      <th></th>\n",
       "      <th></th>\n",
       "      <th></th>\n",
       "      <th></th>\n",
       "      <th></th>\n",
       "      <th></th>\n",
       "      <th></th>\n",
       "      <th></th>\n",
       "      <th></th>\n",
       "      <th></th>\n",
       "      <th></th>\n",
       "      <th></th>\n",
       "      <th></th>\n",
       "      <th></th>\n",
       "      <th></th>\n",
       "    </tr>\n",
       "  </thead>\n",
       "  <tbody>\n",
       "    <tr>\n",
       "      <th>2018-12-23 22:31:34.446107</th>\n",
       "      <td>Notice::ACTION_LOG</td>\n",
       "      <td>False</td>\n",
       "      <td>10.0.2.18</td>\n",
       "      <td>-</td>\n",
       "      <td>-</td>\n",
       "      <td>-</td>\n",
       "      <td>-</td>\n",
       "      <td>0</td>\n",
       "      <td>-</td>\n",
       "      <td>0</td>\n",
       "      <td>...</td>\n",
       "      <td>-</td>\n",
       "      <td>-</td>\n",
       "      <td>-</td>\n",
       "      <td>0.0</td>\n",
       "      <td>0.0</td>\n",
       "      <td>-</td>\n",
       "      <td>10.0.2.19</td>\n",
       "      <td>remote</td>\n",
       "      <td>01:00:00</td>\n",
       "      <td>-</td>\n",
       "    </tr>\n",
       "  </tbody>\n",
       "</table>\n",
       "<p>1 rows × 25 columns</p>\n",
       "</div>"
      ],
      "text/plain": [
       "                                       actions  dropped        dst file_desc  \\\n",
       "ts                                                                             \n",
       "2018-12-23 22:31:34.446107  Notice::ACTION_LOG    False  10.0.2.18         -   \n",
       "\n",
       "                           file_mime_type fuid id.orig_h  id.orig_p id.resp_h  \\\n",
       "ts                                                                              \n",
       "2018-12-23 22:31:34.446107              -    -         -          0         -   \n",
       "\n",
       "                            id.resp_p ...  proto  remote_location.city  \\\n",
       "ts                                    ...                                \n",
       "2018-12-23 22:31:34.446107          0 ...      -                     -   \n",
       "\n",
       "                           remote_location.country_code  \\\n",
       "ts                                                        \n",
       "2018-12-23 22:31:34.446107                            -   \n",
       "\n",
       "                            remote_location.latitude  \\\n",
       "ts                                                     \n",
       "2018-12-23 22:31:34.446107                       0.0   \n",
       "\n",
       "                           remote_location.longitude remote_location.region  \\\n",
       "ts                                                                            \n",
       "2018-12-23 22:31:34.446107                       0.0                      -   \n",
       "\n",
       "                                  src     sub  suppress_for  uid  \n",
       "ts                                                                \n",
       "2018-12-23 22:31:34.446107  10.0.2.19  remote      01:00:00    -  \n",
       "\n",
       "[1 rows x 25 columns]"
      ]
     },
     "execution_count": 13,
     "metadata": {},
     "output_type": "execute_result"
    }
   ],
   "source": [
    "# 输出所有\n",
    "notice_df"
   ]
  },
  {
   "cell_type": "code",
   "execution_count": 14,
   "metadata": {},
   "outputs": [
    {
     "data": {
      "text/plain": [
       "'10.0.2.19 scanned at least 15 unique ports of host 10.0.2.18 in 0m0s'"
      ]
     },
     "execution_count": 14,
     "metadata": {},
     "output_type": "execute_result"
    }
   ],
   "source": [
    "# 通过行号获取行数据\n",
    "notice_df.iloc[0]['msg']"
   ]
  }
 ],
 "metadata": {
  "kernelspec": {
   "display_name": "Python 3",
   "language": "python",
   "name": "python3"
  },
  "language_info": {
   "codemirror_mode": {
    "name": "ipython",
    "version": 3
   },
   "file_extension": ".py",
   "mimetype": "text/x-python",
   "name": "python",
   "nbconvert_exporter": "python",
   "pygments_lexer": "ipython3",
   "version": "3.5.6"
  }
 },
 "nbformat": 4,
 "nbformat_minor": 2
}
